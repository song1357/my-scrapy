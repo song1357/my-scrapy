{
 "cells": [
  {
   "cell_type": "code",
   "execution_count": null,
   "metadata": {},
   "outputs": [],
   "source": [
    "import requests\n",
    "URL = \"https://www.geeksforgeeks.org/data-structures/\"\n",
    "r = requests.get(URL)\n",
    "print(r.content)\n"
   ]
  },
  {
   "cell_type": "code",
   "execution_count": null,
   "metadata": {},
   "outputs": [],
   "source": [
    "headers = {'User-Agent': \"Mozilla/5.0 (Windows NT 10.0; Win64; x64) AppleWebKit/537.36 (KHTML, like Gecko) Chrome/42.0.2311.135 Safari/537.36 Edge/12.246\"}\n",
    "# Here the user agent is for Edge browser on windows 10. You can find your browser user agent from the above given link.\n",
    "r = requests.get(url=URL, headers=headers)\n",
    "print(r.content)\n"
   ]
  },
  {
   "cell_type": "code",
   "execution_count": null,
   "metadata": {},
   "outputs": [],
   "source": [
    "#This will not run on online IDE\n",
    "import requests\n",
    "from bs4 import BeautifulSoup\n",
    "\n",
    "URL = \"http://www.values.com/inspirational-quotes\"\n",
    "r = requests.get(URL)\n",
    "\n",
    "soup = BeautifulSoup(r.content, 'lxml') # If this line causes an error, run 'pip install html5lib' or install html5lib\n",
    "print(soup.prettify())\n"
   ]
  },
  {
   "cell_type": "code",
   "execution_count": null,
   "metadata": {},
   "outputs": [],
   "source": [
    "#Python program to scrape website\n",
    "#and save quotes from website\n",
    "import requests\n",
    "from bs4 import BeautifulSoup\n",
    "import csv\n",
    "\n",
    "URL = \"http://www.values.com/inspirational-quotes\"\n",
    "r = requests.get(URL)\n",
    "\n",
    "soup = BeautifulSoup(r.content, 'lxml')\n",
    "\n",
    "quotes=[] # a list to store quotes\n",
    "\n",
    "table = soup.find('div', attrs = {'id':'all_quotes'})\n",
    "\n",
    "print(table.prettify)\n",
    "\n"
   ]
  },
  {
   "cell_type": "code",
   "execution_count": 16,
   "metadata": {},
   "outputs": [
    {
     "name": "stdout",
     "output_type": "stream",
     "text": [
      "[]\n"
     ]
    }
   ],
   "source": [
    "#Python program to scrape website\n",
    "#and save quotes from website\n",
    "import requests\n",
    "from bs4 import BeautifulSoup\n",
    "import csv\n",
    "\n",
    "URL = \"http://www.values.com/inspirational-quotes\"\n",
    "r = requests.get(URL)\n",
    "\n",
    "soup = BeautifulSoup(r.content, 'lxml')\n",
    "\n",
    "quotes=[] # a list to store quotes\n",
    "\n",
    "table = soup.find('div', attrs = {'id':'all_quotes'})\n",
    "\n",
    "for row in table.findAll('div',\n",
    "\t\t\t\t\t\tattrs = {'class':'col-6 col-lg-3 text-center margin-30px-bottom sm-margin-30px-top'}):\n",
    "\tquote = {}\n",
    "\tquote['theme'] = row.h5.text\n",
    "\tquote['url'] = row.a['href']\n",
    "\tquote['img'] = row.img['src']\n",
    "\tquote['lines'] = row.img['alt'].split(\" #\")[0]\n",
    "\tquote['author'] = row.img['alt'].split(\" #\")[1]\n",
    "\tquotes.append(quote)\n",
    "\n",
    "print(quotes)\n",
    "\n",
    "filename = 'inspirational_quotes.csv'\n",
    "with open(filename, 'w', newline='') as f:\n",
    "\tw = csv.DictWriter(f,['theme','url','img','lines','author'])\n",
    "\tw.writeheader()\n",
    "\tfor quote in quotes:\n",
    "\t\tw.writerow(quote)\n"
   ]
  }
 ],
 "metadata": {
  "kernelspec": {
   "display_name": "base",
   "language": "python",
   "name": "python3"
  },
  "language_info": {
   "codemirror_mode": {
    "name": "ipython",
    "version": 3
   },
   "file_extension": ".py",
   "mimetype": "text/x-python",
   "name": "python",
   "nbconvert_exporter": "python",
   "pygments_lexer": "ipython3",
   "version": "3.11.4"
  },
  "orig_nbformat": 4
 },
 "nbformat": 4,
 "nbformat_minor": 2
}
